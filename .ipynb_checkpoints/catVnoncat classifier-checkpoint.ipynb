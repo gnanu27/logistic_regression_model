{
 "cells": [
  {
   "cell_type": "markdown",
   "id": "aa52d0f5",
   "metadata": {},
   "source": [
    "# Logistic regression classifier"
   ]
  },
  {
   "cell_type": "markdown",
   "id": "8a8e3595",
   "metadata": {},
   "source": [
    "simple custom classifier without library using python to classify cat vs no cat in a image"
   ]
  },
  {
   "cell_type": "code",
   "execution_count": 1,
   "id": "ac708977",
   "metadata": {},
   "outputs": [],
   "source": [
    "import numpy as np\n",
    "import pandas as pd\n",
    "import scipy\n",
    "import matplotlib.pyplot as plt\n",
    "import h5py\n",
    "from scipy import ndimage\n",
    "from utils import load_datastes\n",
    "\n",
    "%matplotlib inline"
   ]
  },
  {
   "cell_type": "markdown",
   "id": "1514e6b4",
   "metadata": {},
   "source": [
    "loading dataset: used h5 file to store images into matrix "
   ]
  },
  {
   "cell_type": "code",
   "execution_count": 2,
   "id": "6535a59c",
   "metadata": {},
   "outputs": [],
   "source": [
    "x_train_set, y_train_set, x_test_set, y_test_set, classes = load_datastes()"
   ]
  },
  {
   "cell_type": "markdown",
   "id": "6f879c58",
   "metadata": {},
   "source": [
    "Checking the datasets"
   ]
  },
  {
   "cell_type": "code",
   "execution_count": 3,
   "id": "29aa01c9",
   "metadata": {},
   "outputs": [
    {
     "name": "stdout",
     "output_type": "stream",
     "text": [
      "it's a non-cat\n"
     ]
    },
    {
     "data": {
      "image/png": "[encoded data removed]",
      "text/plain": [
       "<Figure size 432x288 with 1 Axes>"
      ]
     },
     "metadata": {
      "needs_background": "light"
     },
     "output_type": "display_data"
    }
   ],
   "source": [
    "index = 69\n",
    "plt.imshow(x_train_set[index])\n",
    "print(\"it's a \" + classes[np.squeeze(y_train_set[:,index])].decode(\"utf-8\"))"
   ]
  },
  {
   "cell_type": "markdown",
   "id": "e3de134b",
   "metadata": {},
   "source": [
    "Pre processing the datasets"
   ]
  },
  {
   "cell_type": "code",
   "execution_count": 4,
   "id": "85aca1cc",
   "metadata": {},
   "outputs": [],
   "source": [
    "m_train = x_train_set.shape[0]\n",
    "m_test = x_test_set.shape[0]\n",
    "px = x_train_set.shape[1]\n",
    "\n",
    "# converting a matrix to a single vector\n",
    "train_set_x_flat = x_train_set.reshape(m_train, -1).T\n",
    "test_set_x_flat = x_test_set.reshape(m_test, -1).T\n",
    "\n",
    "# Standardize the dataset\n",
    "x_train = train_set_x_flat / 255\n",
    "x_test = test_set_x_flat / 255"
   ]
  },
  {
   "cell_type": "markdown",
   "id": "51e653ce",
   "metadata": {},
   "source": [
    "Mathematical expression for logistic regression.\n",
    "$$z^{(i)} = w^T x^{(i)} + b $$\n",
    "$$\\hat{y}^{(i)} = a^{(i)} = sigmoid(z^{(i)})$$ \n",
    "$$ \\mathcal{L}(a^{(i)}, y^{(i)}) =  - y^{(i)}  \\log(a^{(i)}) - (1-y^{(i)} )  \\log(1-a^{(i)})$$\n",
    "    "
   ]
  },
  {
   "cell_type": "code",
   "execution_count": 8,
   "id": "1b302285",
   "metadata": {},
   "outputs": [],
   "source": [
    "# initialize the parameters and helper methods \n",
    "def sigmoid(z):\n",
    "    s = 1 / (1 + np.exp(-(z)))\n",
    "    return s"
   ]
  },
  {
   "cell_type": "code",
   "execution_count": 9,
   "id": "fb6e4b05",
   "metadata": {},
   "outputs": [],
   "source": [
    "# initializing weights and bais\n",
    "def initialize_wb(dim):\n",
    "    w = np.zeros((dim, 1))\n",
    "    b = 0 \n",
    "    return w, b"
   ]
  },
  {
   "cell_type": "markdown",
   "id": "7c9e31a5",
   "metadata": {},
   "source": [
    "mathimatical expression for gradients and cost in logistic regression\n",
    "-  $A = \\sigma(w^T X + b) = (a^{(1)}, a^{(2)}, ..., a^{(m-1)}, a^{(m)})$\n",
    "- cost function: $J = -\\frac{1}{m}\\sum_{i=1}^{m}y^{(i)}\\log(a^{(i)})+(1-y^{(i)})\\log(1-a^{(i)})$\n",
    "\n",
    "Two formulas gradient: \n",
    "\n",
    "$$ \\frac{\\partial J}{\\partial w} = \\frac{1}{m}X(A-Y)^T$$\n",
    "$$ \\frac{\\partial J}{\\partial b} = \\frac{1}{m} \\sum_{i=1}^m (a^{(i)}-y^{(i)})$$"
   ]
  },
  {
   "cell_type": "code",
   "execution_count": 10,
   "id": "9fc2d78c",
   "metadata": {},
   "outputs": [],
   "source": [
    "# Forward propagation and backward propagation in order to calculate the gradients and cost\n",
    "def propagate(w,b,X,Y):\n",
    "    m = X.shape[1]\n",
    "#     print('m', m)\n",
    "    A = sigmoid(np.dot(w.T, X) + b)\n",
    "    cost =  -1/m * (np.dot(Y,np.log(A).T) + np.dot(1 - Y,  np.log(1 - A).T))\n",
    "\n",
    "    dw = 1 / m * np.dot(X, (A-Y).T)\n",
    "    db = 1 / m * np.sum(A-Y)\n",
    "\n",
    "    assert(dw.shape == w.shape)\n",
    "    assert(db.dtype == float)\n",
    "    cost = np.squeeze(cost)\n",
    "    assert(cost.shape == ())\n",
    "    \n",
    "    grads = {\"dw\": dw,\n",
    "             \"db\": db}\n",
    "    \n",
    "    return grads, cost"
   ]
  },
  {
   "cell_type": "code",
   "execution_count": 11,
   "id": "173ae884",
   "metadata": {},
   "outputs": [
    {
     "name": "stdout",
     "output_type": "stream",
     "text": [
      "dw = [[0.99845601]\n",
      " [2.39507239]]\n",
      "db = 0.001455578136784208\n",
      "cost = 5.801545319394553\n"
     ]
    }
   ],
   "source": [
    "w, b, X, Y = np.array([[1.],[2.]]), 2., np.array([[1.,2.,-1.],[3.,4.,-3.2]]), np.array([[1,0,1]])\n",
    "grads, cost = propagate(w, b, X, Y)\n",
    "print (\"dw = \" + str(grads[\"dw\"]))\n",
    "print (\"db = \" + str(grads[\"db\"]))\n",
    "print (\"cost = \" + str(cost))"
   ]
  },
  {
   "cell_type": "code",
   "execution_count": 12,
   "id": "e9fbaa23",
   "metadata": {},
   "outputs": [],
   "source": [
    "#optimize the parameters\n",
    "\n",
    "def optimize(w,b,X,Y,num_iterations=100,learning_rate=0.005):\n",
    "    costs = []\n",
    "    for i in range(1,num_iterations+1):\n",
    "        grads, cost = propagate(w,b,X,Y)\n",
    "        \n",
    "        dw = grads['dw']\n",
    "        db = grads['db']\n",
    "        \n",
    "        w -= learning_rate*dw\n",
    "        b -= learning_rate*db\n",
    "        \n",
    "        if i % 100 == 0:\n",
    "            print(\"Iterations {} : cost {}\".format(i, cost))\n",
    "            costs.append(cost)\n",
    "        \n",
    "    params = {\"w\":w, \"b\":b}\n",
    "    grads = {\"dw\":dw, \"db\": db}\n",
    "        \n",
    "    return params, grads, costs"
   ]
  },
  {
   "cell_type": "code",
   "execution_count": 14,
   "id": "21a4b8e4",
   "metadata": {},
   "outputs": [
    {
     "name": "stdout",
     "output_type": "stream",
     "text": [
      "Iterations 100 : cost 1.0784313398164707\n",
      "w = [[0.19033591]\n",
      " [0.12259159]]\n",
      "b = 1.9253598300845747\n",
      "dw = [[0.67752042]\n",
      " [1.41625495]]\n",
      "db = 0.21919450454067657\n"
     ]
    }
   ],
   "source": [
    "params, grads, costs = optimize(w, b, X, Y, num_iterations= 100, learning_rate = 0.009)\n",
    "\n",
    "print (\"w = \" + str(params[\"w\"]))\n",
    "print (\"b = \" + str(params[\"b\"]))\n",
    "print (\"dw = \" + str(grads[\"dw\"]))\n",
    "print (\"db = \" + str(grads[\"db\"]))"
   ]
  },
  {
   "cell_type": "code",
   "execution_count": 17,
   "id": "a07a5781",
   "metadata": {},
   "outputs": [],
   "source": [
    "# predicting\n",
    "def predict(w,b,X):\n",
    "    y_prediction = np.zeros((1, X.shape[1]))\n",
    "    w = w.reshape(X.shape[0], 1)\n",
    "\n",
    "    A = sigmoid(np.dot(w.T, X) + b)\n",
    "#     print('A',A.shape, y_prediction.shape)\n",
    "    for i in range(A.shape[0]):        \n",
    "        if A[0,i] > 0.5:\n",
    "            y_prediction[0,i] = 1\n",
    "        else:\n",
    "            y_prediction[0,i] = 0\n",
    "            \n",
    "    return y_prediction"
   ]
  },
  {
   "cell_type": "code",
   "execution_count": 18,
   "id": "9b1646d9",
   "metadata": {},
   "outputs": [
    {
     "name": "stdout",
     "output_type": "stream",
     "text": [
      "predictions = [[1. 1. 0.]]\n"
     ]
    }
   ],
   "source": [
    "w = np.array([[0.1124579],[0.23106775]])\n",
    "b = -0.3\n",
    "X = np.array([[1.,-1.1,-3.2],[1.2,2.,0.1]])\n",
    "print (\"predictions = \" + str(predict(w, b, X)))"
   ]
  },
  {
   "cell_type": "code",
   "execution_count": null,
   "id": "9f19fe60",
   "metadata": {},
   "outputs": [],
   "source": [
    "# defining a model\n",
    "def model(x_train_data,x_test_data,y_train,y_test,number_iteration=2000,learning_rate=0.0005):\n",
    "    dim = x_train.shape[0]\n",
    "    w,b = initialize_wb(dim)\n",
    "    \n",
    "    params, grads,costs =  optimize(w,b,x_train_data,y_train,number_iteration,learning_rate)\n",
    "    \n",
    "    w = params['w']\n",
    "    b = params['b']\n",
    "    \n",
    "    dw = grads['dw']\n",
    "    db = grads['db']\n",
    "    \n",
    "    train_predict = predict(w,b,x_train_data)\n",
    "    test_predict = predict(w,b,x_test_data)\n",
    "    \n",
    "    \n",
    "    print(\"Accuracy for train : {} % \".format(100 - np.mean(np.abs(train_predict - y_train)) * 100))\n",
    "    print(\"Accuracy for test : {} %\".format(100 - np.mean(np.abs(test_predict - y_test)) * 100))\n",
    "    \n",
    "    d = {'w': w, 'b':b, 'costs': costs}\n",
    "    "
   ]
  },
  {
   "cell_type": "code",
   "execution_count": null,
   "id": "7719263e",
   "metadata": {},
   "outputs": [],
   "source": [
    "d = model(x_train, x_test, y_train_set,y_test_set)"
   ]
  },
  {
   "cell_type": "code",
   "execution_count": null,
   "id": "ebe12807",
   "metadata": {},
   "outputs": [],
   "source": []
  },
  {
   "cell_type": "code",
   "execution_count": null,
   "id": "dba6b60e",
   "metadata": {},
   "outputs": [],
   "source": []
  }
 ],
 "metadata": {
  "kernelspec": {
   "display_name": "Python 3",
   "language": "python",
   "name": "python3"
  },
  "language_info": {
   "codemirror_mode": {
    "name": "ipython",
    "version": 3
   },
   "file_extension": ".py",
   "mimetype": "text/x-python",
   "name": "python",
   "nbconvert_exporter": "python",
   "pygments_lexer": "ipython3",
   "version": "3.7.10"
  }
 },
 "nbformat": 4,
 "nbformat_minor": 5
}
